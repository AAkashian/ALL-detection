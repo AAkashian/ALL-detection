{
  "cells": [
    {
      "cell_type": "code",
      "execution_count": 1,
      "metadata": {
        "id": "kAeJCfl8Roje"
      },
      "outputs": [],
      "source": [
        "!mkdir -p ~/.kaggle\n",
        "!cp kaggle.json ~/.kaggle/"
      ]
    },
    {
      "cell_type": "code",
      "execution_count": 2,
      "metadata": {
        "id": "LDKYNKyOj0cR",
        "colab": {
          "base_uri": "https://localhost:8080/"
        },
        "outputId": "09267aed-51d7-4727-a119-2b17307dbffa"
      },
      "outputs": [
        {
          "output_type": "stream",
          "name": "stdout",
          "text": [
            "Warning: Your Kaggle API key is readable by other users on this system! To fix this, you can run 'chmod 600 /root/.kaggle/kaggle.json'\n",
            "Downloading leukemia.zip to /content\n",
            " 88% 97.0M/110M [00:01<00:00, 65.2MB/s]\n",
            "100% 110M/110M [00:01<00:00, 81.1MB/s] \n"
          ]
        }
      ],
      "source": [
        "!kaggle datasets download -d mehradaria/leukemia"
      ]
    },
    {
      "cell_type": "code",
      "execution_count": 4,
      "metadata": {
        "id": "ARJGkiVlj3p3"
      },
      "outputs": [],
      "source": [
        "import tensorflow as tf\n",
        "from tensorflow.keras import layers\n",
        "from tensorflow.keras.preprocessing.image import ImageDataGenerator\n",
        "from tensorflow import keras"
      ]
    },
    {
      "cell_type": "code",
      "source": [
        "import zipfile\n",
        "zip_ref = zipfile.ZipFile('/content/leukemia.zip', 'r')\n",
        "zip_ref.extractall('/content')\n",
        "zip_ref.close()"
      ],
      "metadata": {
        "id": "TKpLw6pISoVZ"
      },
      "execution_count": 3,
      "outputs": []
    },
    {
      "cell_type": "code",
      "execution_count": 5,
      "metadata": {
        "colab": {
          "base_uri": "https://localhost:8080/"
        },
        "id": "OlUiTE1MvpHd",
        "outputId": "b043f656-0326-4697-834f-a47eb59cfc33"
      },
      "outputs": [
        {
          "output_type": "stream",
          "name": "stdout",
          "text": [
            "Found 3256 images belonging to 4 classes.\n",
            "Found 876 images belonging to 4 classes.\n",
            "Found 876 images belonging to 4 classes.\n"
          ]
        }
      ],
      "source": [
        "import tensorflow as tf\n",
        "from tensorflow.keras import layers\n",
        "from tensorflow.keras.preprocessing.image import ImageDataGenerator\n",
        "\n",
        "# Define hyperparameters\n",
        "IMG_SIZE = 256\n",
        "BATCH_SIZE = 32\n",
        "EPOCHS = 4\n",
        "NUM_CLASSES = 4\n",
        "\n",
        "# Define data generators\n",
        "train_datagen = ImageDataGenerator(rescale=1./255,\n",
        "                                   shear_range=0.2,\n",
        "                                   zoom_range=0.2,\n",
        "                                   horizontal_flip=True)\n",
        "train_generator = train_datagen.flow_from_directory(directory='/content/Original',\n",
        "                                                    target_size=(IMG_SIZE, IMG_SIZE),\n",
        "                                                    batch_size=BATCH_SIZE,\n",
        "                                                    class_mode='categorical',\n",
        "                                                    shuffle=True)\n",
        "\n",
        "val_datagen = ImageDataGenerator(rescale=1./255)\n",
        "val_generator = val_datagen.flow_from_directory(directory='/content/drive/MyDrive/Leukemia/test',\n",
        "                                                target_size=(IMG_SIZE, IMG_SIZE),\n",
        "                                                batch_size=BATCH_SIZE,\n",
        "                                                class_mode='categorical',\n",
        "                                                shuffle=False)\n",
        "\n",
        "test_datagen = ImageDataGenerator(rescale=1./255)\n",
        "test_generator = test_datagen.flow_from_directory(directory='/content/drive/MyDrive/Leukemia/test',\n",
        "                                                  target_size=(IMG_SIZE, IMG_SIZE),\n",
        "                                                  batch_size=BATCH_SIZE,\n",
        "                                                  class_mode='categorical',\n",
        "                                                  shuffle=False)\n",
        "\n",
        "# Define the model\n",
        "\n",
        "\n",
        "\n",
        "\n"
      ]
    },
    {
      "cell_type": "code",
      "execution_count": 6,
      "metadata": {
        "id": "PJwVlPKIzOKN"
      },
      "outputs": [],
      "source": [
        "\n",
        "# CUstom CNN  model\n",
        "model = tf.keras.models.Sequential([\n",
        "    layers.Conv2D(32, (3, 3), activation='relu', input_shape=(IMG_SIZE, IMG_SIZE, 3)),\n",
        "    layers.MaxPooling2D((2, 2)),\n",
        "    layers.Conv2D(64, (3, 3), activation='relu'),\n",
        "    layers.MaxPooling2D((2, 2)),\n",
        "    layers.Conv2D(128, (3, 3), activation='relu'),\n",
        "    layers.MaxPooling2D((2, 2)),\n",
        "    layers.Conv2D(256, (3, 3), activation='relu'),\n",
        "    layers.MaxPooling2D((2, 2)),\n",
        "    layers.Conv2D(512, (3, 3), activation='relu'),\n",
        "    layers.MaxPooling2D((2, 2)),\n",
        "\n",
        "    layers.Flatten(),\n",
        "    layers.Dense(512, activation='relu'),\n",
        "    layers.Dropout(0.5),\n",
        "    layers.Dense(NUM_CLASSES, activation='softmax')\n",
        "])\n"
      ]
    },
    {
      "cell_type": "code",
      "execution_count": 7,
      "metadata": {
        "colab": {
          "base_uri": "https://localhost:8080/"
        },
        "id": "ar8XrmHTzPW0",
        "outputId": "99bf48e0-4eb9-427f-c8d2-c77ea883d295"
      },
      "outputs": [
        {
          "output_type": "stream",
          "name": "stdout",
          "text": [
            "Model: \"sequential\"\n",
            "_________________________________________________________________\n",
            " Layer (type)                Output Shape              Param #   \n",
            "=================================================================\n",
            " conv2d (Conv2D)             (None, 254, 254, 32)      896       \n",
            "                                                                 \n",
            " max_pooling2d (MaxPooling2  (None, 127, 127, 32)      0         \n",
            " D)                                                              \n",
            "                                                                 \n",
            " conv2d_1 (Conv2D)           (None, 125, 125, 64)      18496     \n",
            "                                                                 \n",
            " max_pooling2d_1 (MaxPoolin  (None, 62, 62, 64)        0         \n",
            " g2D)                                                            \n",
            "                                                                 \n",
            " conv2d_2 (Conv2D)           (None, 60, 60, 128)       73856     \n",
            "                                                                 \n",
            " max_pooling2d_2 (MaxPoolin  (None, 30, 30, 128)       0         \n",
            " g2D)                                                            \n",
            "                                                                 \n",
            " conv2d_3 (Conv2D)           (None, 28, 28, 256)       295168    \n",
            "                                                                 \n",
            " max_pooling2d_3 (MaxPoolin  (None, 14, 14, 256)       0         \n",
            " g2D)                                                            \n",
            "                                                                 \n",
            " conv2d_4 (Conv2D)           (None, 12, 12, 512)       1180160   \n",
            "                                                                 \n",
            " max_pooling2d_4 (MaxPoolin  (None, 6, 6, 512)         0         \n",
            " g2D)                                                            \n",
            "                                                                 \n",
            " flatten (Flatten)           (None, 18432)             0         \n",
            "                                                                 \n",
            " dense (Dense)               (None, 512)               9437696   \n",
            "                                                                 \n",
            " dropout (Dropout)           (None, 512)               0         \n",
            "                                                                 \n",
            " dense_1 (Dense)             (None, 4)                 2052      \n",
            "                                                                 \n",
            "=================================================================\n",
            "Total params: 11008324 (41.99 MB)\n",
            "Trainable params: 11008324 (41.99 MB)\n",
            "Non-trainable params: 0 (0.00 Byte)\n",
            "_________________________________________________________________\n"
          ]
        }
      ],
      "source": [
        "model.summary()"
      ]
    },
    {
      "cell_type": "code",
      "source": [
        "import tensorflow as tf\n",
        "from tensorflow.keras.layers import Input, Conv2D, MaxPooling2D, Flatten, Dense\n",
        "from tensorflow.keras.applications.vgg16 import VGG16\n",
        "\n",
        "# Build the VGG16 model\n",
        "base_model = VGG16(input_shape=(256, 256, 3), include_top=False)\n",
        "\n",
        "# Freeze the weights of the base model\n",
        "for layer in base_model.layers:\n",
        "    layer.trainable = False\n",
        "\n",
        "# Add new layers on top of the base model\n",
        "x = base_model.output\n",
        "x = Flatten()(x)\n",
        "x = Dense(512, activation='relu')(x)\n",
        "x = tf.keras.layers.BatchNormalization()(x)\n",
        "x = Dense(512, activation='relu')(x)\n",
        "x = tf.keras.layers.Dropout(0.1)(x)\n",
        "x = tf.keras.layers.BatchNormalization()(x)\n",
        "x = Dense(512, activation='relu')(x)\n",
        "x = tf.keras.layers.Dropout(0.2)(x)\n",
        "x = tf.keras.layers.BatchNormalization()(x)\n",
        "predictions = Dense(4, activation='softmax')(x)  # change activation to softmax and units to 4\n",
        "\n",
        "# Create the VGG16 model\n",
        "model = tf.keras.models.Model(inputs=base_model.input, outputs=predictions)\n",
        "\n",
        "# Compile the model\n",
        "model.compile(loss='categorical_crossentropy', optimizer='adam', metrics=['accuracy']) # change loss to categorical_crossentropy\n"
      ],
      "metadata": {
        "colab": {
          "base_uri": "https://localhost:8080/"
        },
        "id": "s_hhfHkNLRO-",
        "outputId": "3d72a45a-1f57-4bd0-ee2a-3a5bd33dccc0"
      },
      "execution_count": 8,
      "outputs": [
        {
          "output_type": "stream",
          "name": "stdout",
          "text": [
            "Downloading data from https://storage.googleapis.com/tensorflow/keras-applications/vgg16/vgg16_weights_tf_dim_ordering_tf_kernels_notop.h5\n",
            "58889256/58889256 [==============================] - 0s 0us/step\n"
          ]
        }
      ]
    },
    {
      "cell_type": "code",
      "execution_count": null,
      "metadata": {
        "colab": {
          "base_uri": "https://localhost:8080/"
        },
        "id": "G0yb9yeUzkub",
        "outputId": "02c1361d-1217-43ad-a471-04bbef661c9e"
      },
      "outputs": [
        {
          "output_type": "stream",
          "name": "stdout",
          "text": [
            "Epoch 1/5\n",
            "102/102 [==============================] - ETA: 0s - loss: 0.3764 - accuracy: 0.8768"
          ]
        }
      ],
      "source": [
        "# Compile the model\n",
        "model.compile(optimizer='adam', loss='categorical_crossentropy', metrics=['accuracy'])\n",
        "\n",
        "# Train the model\n",
        "history=model.fit(train_generator, epochs=5, validation_data=val_generator)\n",
        "\n",
        "# Evaluate the model\n",
        "test_loss, test_acc = model.evaluate(test_generator)\n",
        "print('Test accuracy:', test_acc)"
      ]
    },
    {
      "cell_type": "code",
      "execution_count": null,
      "metadata": {
        "id": "EW6GJvO4NNMy"
      },
      "outputs": [],
      "source": [
        "model.save(\"Leukemiavgg.h5\")"
      ]
    },
    {
      "cell_type": "code",
      "source": [
        "import cv2\n",
        "from tensorflow.keras.models import load_model\n",
        "test_img=cv2.imread('/content/Original/Pro/WBC-Malignant-Pro-190.jpg')\n",
        "model1=load_model('Leukemiavgg.h5')\n",
        "\n",
        "#Mapping result array with the main name list\n",
        "test_img = cv2.resize(test_img,(256,256))\n",
        "test_input = test_img.reshape((1,256,256,3))\n",
        "result=model1.predict(test_input)\n",
        "import numpy as np\n",
        "\n",
        "# Assuming that the order of the classes is ['class1', 'class2', 'class3', 'class4']\n",
        "class_names = ['class1', 'class2', 'class3', 'class4']\n",
        "\n",
        "# Get the index of the class with the highest probability\n",
        "predicted_class_index = np.argmax(result)\n",
        "\n",
        "# Get the name of the predicted class\n",
        "predicted_class_name = class_names[predicted_class_index]\n",
        "\n",
        "# Print the predicted class name\n",
        "print(predicted_class_name)\n",
        "\n",
        "\n",
        "print(result)"
      ],
      "metadata": {
        "colab": {
          "base_uri": "https://localhost:8080/"
        },
        "id": "5u2xEn_-Hyj3",
        "outputId": "c2749f42-391a-4031-fa95-c2d557368672"
      },
      "execution_count": null,
      "outputs": [
        {
          "output_type": "stream",
          "name": "stdout",
          "text": [
            "1/1 [==============================] - 0s 291ms/step\n",
            "class4\n",
            "[[0.0000000e+00 0.0000000e+00 2.4929663e-11 1.0000000e+00]]\n"
          ]
        }
      ]
    },
    {
      "cell_type": "code",
      "execution_count": null,
      "metadata": {
        "colab": {
          "base_uri": "https://localhost:8080/"
        },
        "id": "nbyIfgSLLdiy",
        "outputId": "57a3f3de-2520-42d5-a75c-52eb3d402c06"
      },
      "outputs": [
        {
          "name": "stdout",
          "output_type": "stream",
          "text": [
            "28/28 [==============================] - 4s 125ms/step\n",
            "Classification Report of Custom CNN Model\n",
            "              precision    recall  f1-score   support\n",
            "\n",
            "      Benign       0.90      0.94      0.92       204\n",
            "       Early       0.97      0.94      0.95       216\n",
            "         Pre       0.98      0.93      0.96       240\n",
            "         Pro       0.95      1.00      0.98       216\n",
            "\n",
            "    accuracy                           0.95       876\n",
            "   macro avg       0.95      0.95      0.95       876\n",
            "weighted avg       0.95      0.95      0.95       876\n",
            "\n"
          ]
        }
      ],
      "source": [
        "from sklearn.metrics import classification_report\n",
        "import numpy as np\n",
        "\n",
        "# Get predictions from the model\n",
        "test_predictions = model.predict(test_generator)\n",
        "\n",
        "# Convert predictions to class labels\n",
        "test_pred_labels = np.argmax(test_predictions, axis=1)\n",
        "\n",
        "# Get true labels from the generator\n",
        "test_true_labels = test_generator.classes\n",
        "\n",
        "# Get class labels\n",
        "class_labels = list(test_generator.class_indices.keys())\n",
        "\n",
        "# Generate classification report\n",
        "report = classification_report(test_true_labels, test_pred_labels, target_names=class_labels)\n",
        "print(\"Classification Report of Custom CNN Model\")\n",
        "\n",
        "print(report)\n"
      ]
    }
  ],
  "metadata": {
    "accelerator": "GPU",
    "colab": {
      "provenance": [],
      "gpuType": "T4"
    },
    "kernelspec": {
      "display_name": "Python 3",
      "name": "python3"
    },
    "language_info": {
      "name": "python"
    }
  },
  "nbformat": 4,
  "nbformat_minor": 0
}